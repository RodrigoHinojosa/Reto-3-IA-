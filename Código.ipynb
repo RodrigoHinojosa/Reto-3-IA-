{
  "nbformat": 4,
  "nbformat_minor": 0,
  "metadata": {
    "colab": {
      "name": "Untitled0.ipynb",
      "provenance": [],
      "authorship_tag": "ABX9TyOsdoibh3xpr2IFMe/FCO8b",
      "include_colab_link": true
    },
    "kernelspec": {
      "name": "python3",
      "display_name": "Python 3"
    }
  },
  "cells": [
    {
      "cell_type": "markdown",
      "metadata": {
        "id": "view-in-github",
        "colab_type": "text"
      },
      "source": [
        "<a href=\"https://colab.research.google.com/github/RodrigoHinojosa/Reto-3-IA-/blob/main/C%C3%B3digo.ipynb\" target=\"_parent\"><img src=\"https://colab.research.google.com/assets/colab-badge.svg\" alt=\"Open In Colab\"/></a>"
      ]
    },
    {
      "cell_type": "markdown",
      "metadata": {
        "id": "qmU3htL6vi8K"
      },
      "source": [
        "**Instalar Biblioteca o paquete**"
      ]
    },
    {
      "cell_type": "code",
      "metadata": {
        "colab": {
          "base_uri": "https://localhost:8080/"
        },
        "id": "PH_SLthYvxNd",
        "outputId": "6aed962f-d3e0-44c4-c3d8-252ae586bd82"
      },
      "source": [
        "!pip install --upgrade azure-cognitiveservices-vision-computervision"
      ],
      "execution_count": 1,
      "outputs": [
        {
          "output_type": "stream",
          "text": [
            "Collecting azure-cognitiveservices-vision-computervision\n",
            "  Downloading https://files.pythonhosted.org/packages/f2/de/03ddaffabd541829394fb6ee4615f642ed1a14438b4543a01ad58f7d222e/azure_cognitiveservices_vision_computervision-0.7.0-py2.py3-none-any.whl\n",
            "Collecting azure-common~=1.1\n",
            "  Downloading https://files.pythonhosted.org/packages/19/2b/46ada1753c4a640bc3ad04a1e20b1a5ea52a8f18079e1b8238e536aa0c98/azure_common-1.1.26-py2.py3-none-any.whl\n",
            "Collecting msrest>=0.5.0\n",
            "\u001b[?25l  Downloading https://files.pythonhosted.org/packages/e8/cc/6c96bfb3d3cf4c3bdedfa6b46503223f4c2a4fa388377697e0f8082a4fed/msrest-0.6.21-py2.py3-none-any.whl (85kB)\n",
            "\u001b[K     |████████████████████████████████| 92kB 4.8MB/s \n",
            "\u001b[?25hRequirement already satisfied, skipping upgrade: certifi>=2017.4.17 in /usr/local/lib/python3.7/dist-packages (from msrest>=0.5.0->azure-cognitiveservices-vision-computervision) (2020.12.5)\n",
            "Collecting isodate>=0.6.0\n",
            "\u001b[?25l  Downloading https://files.pythonhosted.org/packages/9b/9f/b36f7774ff5ea8e428fdcfc4bb332c39ee5b9362ddd3d40d9516a55221b2/isodate-0.6.0-py2.py3-none-any.whl (45kB)\n",
            "\u001b[K     |████████████████████████████████| 51kB 6.2MB/s \n",
            "\u001b[?25hRequirement already satisfied, skipping upgrade: requests-oauthlib>=0.5.0 in /usr/local/lib/python3.7/dist-packages (from msrest>=0.5.0->azure-cognitiveservices-vision-computervision) (1.3.0)\n",
            "Requirement already satisfied, skipping upgrade: requests~=2.16 in /usr/local/lib/python3.7/dist-packages (from msrest>=0.5.0->azure-cognitiveservices-vision-computervision) (2.23.0)\n",
            "Requirement already satisfied, skipping upgrade: six in /usr/local/lib/python3.7/dist-packages (from isodate>=0.6.0->msrest>=0.5.0->azure-cognitiveservices-vision-computervision) (1.15.0)\n",
            "Requirement already satisfied, skipping upgrade: oauthlib>=3.0.0 in /usr/local/lib/python3.7/dist-packages (from requests-oauthlib>=0.5.0->msrest>=0.5.0->azure-cognitiveservices-vision-computervision) (3.1.0)\n",
            "Requirement already satisfied, skipping upgrade: idna<3,>=2.5 in /usr/local/lib/python3.7/dist-packages (from requests~=2.16->msrest>=0.5.0->azure-cognitiveservices-vision-computervision) (2.10)\n",
            "Requirement already satisfied, skipping upgrade: chardet<4,>=3.0.2 in /usr/local/lib/python3.7/dist-packages (from requests~=2.16->msrest>=0.5.0->azure-cognitiveservices-vision-computervision) (3.0.4)\n",
            "Requirement already satisfied, skipping upgrade: urllib3!=1.25.0,!=1.25.1,<1.26,>=1.21.1 in /usr/local/lib/python3.7/dist-packages (from requests~=2.16->msrest>=0.5.0->azure-cognitiveservices-vision-computervision) (1.24.3)\n",
            "Installing collected packages: azure-common, isodate, msrest, azure-cognitiveservices-vision-computervision\n",
            "Successfully installed azure-cognitiveservices-vision-computervision-0.7.0 azure-common-1.1.26 isodate-0.6.0 msrest-0.6.21\n"
          ],
          "name": "stdout"
        }
      ]
    },
    {
      "cell_type": "code",
      "metadata": {
        "colab": {
          "base_uri": "https://localhost:8080/"
        },
        "id": "Pa22LKnmwQef",
        "outputId": "d640bad7-f5df-4ed5-d889-2183ade8d7b2"
      },
      "source": [
        "\r\n",
        "!pip install pillow"
      ],
      "execution_count": 2,
      "outputs": [
        {
          "output_type": "stream",
          "text": [
            "Requirement already satisfied: pillow in /usr/local/lib/python3.7/dist-packages (7.0.0)\n"
          ],
          "name": "stdout"
        }
      ]
    },
    {
      "cell_type": "code",
      "metadata": {
        "id": "qfD40GRrwfqP"
      },
      "source": [
        "#Importar paquetes para uso de recursos y comprobar codigos de acceso\r\n",
        "from azure.cognitiveservices.vision.computervision import ComputerVisionClient\r\n",
        "from azure.cognitiveservices.vision.computervision.models import OperationStatusCodes\r\n",
        "from azure.cognitiveservices.vision.computervision.models import VisualFeatureTypes\r\n",
        "from msrest.authentication import CognitiveServicesCredentials\r\n",
        "\r\n",
        "from array import array\r\n",
        "import os\r\n",
        "from PIL import Image\r\n",
        "import sys\r\n",
        "import time\r\n",
        "#Datos de acceso\r\n",
        "subscription_key = \"*********************\"\r\n",
        "endpoint = \"***************************************\"\r\n",
        "#Creación de variable cliente para verificar acceso\r\n",
        "computervision_client = ComputerVisionClient(endpoint, CognitiveServicesCredentials(subscription_key))"
      ],
      "execution_count": 4,
      "outputs": []
    },
    {
      "cell_type": "code",
      "metadata": {
        "colab": {
          "base_uri": "https://localhost:8080/"
        },
        "id": "502h568Kx4xl",
        "outputId": "1a7ac779-50e5-4cdf-bbf3-238933871227"
      },
      "source": [
        "##Código para buscar la imagen y usar servicios de cognitive services\r\n",
        "#de computer vision\r\n",
        "print(\"===== Detección de las caracteristicas de genero y edad=====\")\r\n",
        "remote_image_url_faces = \"https://www.oficinaempleo.com/blog/wp-content/uploads/2018/01/empleos.jpg\"\r\n",
        "remote_image_features = [\"faces\"]\r\n",
        "# Call the API  usando la imagen y las caracteristicas que necesitamos que lea\r\n",
        "detect_faces_results_remote = computervision_client.analyze_image(remote_image_url_faces, remote_image_features)\r\n",
        "\r\n",
        "# imprime los resultados con el genero y la edad de los trabajadores  \r\n",
        "print(\"Caras detectadas y apoyos disponibles\")\r\n",
        "if (len(detect_faces_results_remote.faces) == 0):\r\n",
        "    print(\"No faces detected.\")\r\n",
        "else:\r\n",
        "    for face in detect_faces_results_remote.faces:\r\n",
        "        sex=face.gender\r\n",
        "        age=face.age\r\n",
        "        print(\"<->Se detectó {} de edad: {}\".format(sex,age))\r\n",
        "        if sex==\"Male\" and age>=30:\r\n",
        "          print(\"Eres candidato a un bono y un curso por estar un poco más viejo \")\r\n",
        "        elif sex==\"Female\" and age>=29:\r\n",
        "          print(\"Eres candidata a un bono y hay algunos cursos de actualización disponibles para ti\") \r\n",
        "        else:\r\n",
        "            print(\"No hay opciones disponibles para ti, vuelve en un año\")\r\n",
        "         \r\n",
        "        \r\n"
      ],
      "execution_count": 29,
      "outputs": [
        {
          "output_type": "stream",
          "text": [
            "===== Detección de las caracteristicas de genero y edad=====\n",
            "Caras detectadas y apoyos disponibles\n",
            "<->Se detectó Male de edad: 33\n",
            "Eres candidato a un bono y un curso por estar un poco más viejo \n",
            "<->Se detectó Female de edad: 28\n",
            "No hay opciones disponibles para ti, vuelve en un año\n"
          ],
          "name": "stdout"
        }
      ]
    },
    {
      "cell_type": "markdown",
      "metadata": {
        "id": "AeF_8WQ19SoB"
      },
      "source": [
        ""
      ]
    }
  ]
}